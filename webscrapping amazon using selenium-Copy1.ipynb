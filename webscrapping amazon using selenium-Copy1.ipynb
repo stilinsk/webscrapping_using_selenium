{
 "cells": [
  {
   "cell_type": "markdown",
   "id": "207796f5",
   "metadata": {},
   "source": [
    "  ### WEBSCRAPPING DYNAMIC WEBSITE USING SELENIUM"
   ]
  },
  {
   "cell_type": "markdown",
   "id": "f33db7b6",
   "metadata": {},
   "source": [
    "webscarapping of data can also be done using selenium (also can be done by BeautifulSoup)we will be scrapping data from Amazon india website "
   ]
  },
  {
   "cell_type": "markdown",
   "id": "ebb01782",
   "metadata": {},
   "source": [
    "#### We will import the necessary libraries"
   ]
  },
  {
   "cell_type": "code",
   "execution_count": 62,
   "id": "cdf36547",
   "metadata": {
    "scrolled": true
   },
   "outputs": [
    {
     "name": "stderr",
     "output_type": "stream",
     "text": [
      "C:\\Users\\stilinski\\AppData\\Local\\Temp\\ipykernel_17336\\443920245.py:7: DeprecationWarning: executable_path has been deprecated, please pass in a Service object\n",
      "  driver = webdriver.Chrome( r'C:\\Users\\stilinski\\Downloads\\New folder\\chromedriver.exe')\n"
     ]
    }
   ],
   "source": [
    "from selenium import webdriver\n",
    "from selenium.webdriver.common.keys import Keys\n",
    "from selenium.webdriver.common.by import By\n",
    "import time\n",
    "\n",
    "\n",
    "# Navigate to the Amazon India website\n",
    "driver.get(\"https://www.amazon.in/\")\n",
    "\n",
    "# Find the search box element and search for 'laptops'\n",
    "search_box = driver.find_element(By.XPATH, \"//input[@id='twotabsearchtextbox']\")\n",
    "search_box.send_keys(\"smartphones under 10000\")\n",
    "search_box.submit()\n"
   ]
  },
  {
   "cell_type": "code",
   "execution_count": null,
   "id": "0ab80bf7",
   "metadata": {},
   "outputs": [],
   "source": [
    "# Create a new instance of the Chrome driver\n",
    "# actually to obtain this we have downloaded the google webdriver from Chrome and we hav extracted all \n",
    "#the data into a file in my pc \n",
    "driver = webdriver.Chrome( r'C:\\Users\\stilinski\\Downloads\\New folder\\chromedriver.exe')"
   ]
  },
  {
   "cell_type": "code",
   "execution_count": null,
   "id": "5d5fa19a",
   "metadata": {},
   "outputs": [],
   "source": [
    "# Navigate to the Amazon India website\n",
    "driver.get(\"https://www.amazon.in/\")"
   ]
  },
  {
   "cell_type": "raw",
   "id": "d93f3e0a",
   "metadata": {},
   "source": [
    "Actually for the below code we will be inspecting the Amazon webpage and in the search tab we will input the \n",
    "'smartphones below 10000shs"
   ]
  },
  {
   "cell_type": "code",
   "execution_count": null,
   "id": "18d8fbfd",
   "metadata": {},
   "outputs": [],
   "source": [
    "# Find the search box element and search for 'smartphones under 100000\n",
    "search_box = driver.find_element(By.XPATH, \"//input[@id='twotabsearchtextbox']\")\n",
    "search_box.send_keys(\"smartphones under 10000\")\n",
    "search_box.submit()\n"
   ]
  },
  {
   "cell_type": "markdown",
   "id": "9fac1df5",
   "metadata": {},
   "source": [
    "After inputting the above code  the webpage directs to the webpage that actually contains all the phones.We will extract all the data of the phones' specifications and the prices of each phone.We are actually using the find_elements_By.XPATH  and all the data after taht actually it is found when you inspect the webpage"
   ]
  },
  {
   "cell_type": "code",
   "execution_count": 56,
   "id": "f21a41bc",
   "metadata": {
    "scrolled": true
   },
   "outputs": [
    {
     "name": "stdout",
     "output_type": "stream",
     "text": [
      "Scrapping page 1\n",
      "Scrapping page 2\n",
      "Scrapping page 3\n",
      "Scrapping page 4\n",
      "Scrapping page 5\n",
      "Scrapping page 6\n",
      "Scrapping page 7\n",
      "Scrapping page 8\n",
      "Scrapping page 9\n",
      "Scrapping page 10\n"
     ]
    }
   ],
   "source": [
    "products = []\n",
    "prices = []\n",
    "for i in range(10):\n",
    "    print('Scrapping page', i+1)\n",
    "    product_elements = driver.find_elements(By.XPATH, \"//span[@class='a-size-medium a-color-base a-text-normal']\")\n",
    "    price_elements = driver.find_elements(By.XPATH, \"//span[@class='a-price-whole']\")\n",
    "    for p, price in zip(product_elements, price_elements):\n",
    "        products.append(p.text)\n",
    "        prices.append(price.text)\n",
    "    next_button = driver.find_element(By.XPATH, \"//span[@class='s-pagination-item s-pagination-ellipsis']\")\n",
    "    next_button.click()\n",
    "    \n",
    "\n"
   ]
  },
  {
   "cell_type": "markdown",
   "id": "d741cfd9",
   "metadata": {},
   "source": [
    "After extracting the data we will create a dataframe from it"
   ]
  },
  {
   "cell_type": "code",
   "execution_count": 10,
   "id": "3cd19c89",
   "metadata": {},
   "outputs": [
    {
     "name": "stdout",
     "output_type": "stream",
     "text": [
      "                                               Product   Price\n",
      "0    Samsung Galaxy M04 Dark Blue, 4GB RAM, 64GB St...   9,499\n",
      "1    Samsung Galaxy S20 FE 5G (Cloud Navy, 8GB RAM,...   9,499\n",
      "2    Redmi A1 (Light Blue, 2GB RAM, 32GB Storage) |...   8,199\n",
      "3    Redmi 10A (Slate Grey, 4GB RAM, 64GB Storage) ...   9,249\n",
      "4    Redmi 10A (Charcoal Black, 4GB RAM, 64GB Stora...  29,999\n",
      "..                                                 ...     ...\n",
      "215  Redmi 9A Sport (Carbon Black, 3GB RAM, 32GB St...  16,499\n",
      "216  Redmi A1 (Light Green, 2GB RAM 32GB ROM) | Seg...   7,499\n",
      "217  Vivo Y16 (Drizzling Gold, 3GB RAM, 32GB Storag...   8,999\n",
      "218  Samsung Galaxy F04 (4GB RAM 64GB Storage) (Opa...   5,779\n",
      "219  OnePlus 11 5G (Eternal Green, 8GB RAM, 128GB S...   4,912\n",
      "\n",
      "[220 rows x 2 columns]\n"
     ]
    }
   ],
   "source": [
    "import pandas as pd\n",
    "\n",
    "# Create a dictionary from the lists of products and prices\n",
    "data = {'Product': products, 'Price': prices}\n",
    "\n",
    "# Create a pandas dataframe from the dictionary\n",
    "df = pd.DataFrame(data)\n",
    "\n",
    "# Print the dataframe\n",
    "print(df)\n"
   ]
  },
  {
   "cell_type": "code",
   "execution_count": 11,
   "id": "f1b546ca",
   "metadata": {},
   "outputs": [
    {
     "data": {
      "text/plain": [
       "220"
      ]
     },
     "execution_count": 11,
     "metadata": {},
     "output_type": "execute_result"
    }
   ],
   "source": [
    "len(products)"
   ]
  },
  {
   "cell_type": "code",
   "execution_count": 12,
   "id": "4de8426b",
   "metadata": {},
   "outputs": [
    {
     "data": {
      "text/html": [
       "<div>\n",
       "<style scoped>\n",
       "    .dataframe tbody tr th:only-of-type {\n",
       "        vertical-align: middle;\n",
       "    }\n",
       "\n",
       "    .dataframe tbody tr th {\n",
       "        vertical-align: top;\n",
       "    }\n",
       "\n",
       "    .dataframe thead th {\n",
       "        text-align: right;\n",
       "    }\n",
       "</style>\n",
       "<table border=\"1\" class=\"dataframe\">\n",
       "  <thead>\n",
       "    <tr style=\"text-align: right;\">\n",
       "      <th></th>\n",
       "      <th>Product</th>\n",
       "      <th>Price</th>\n",
       "    </tr>\n",
       "  </thead>\n",
       "  <tbody>\n",
       "    <tr>\n",
       "      <th>0</th>\n",
       "      <td>Samsung Galaxy M04 Dark Blue, 4GB RAM, 64GB St...</td>\n",
       "      <td>9,499</td>\n",
       "    </tr>\n",
       "    <tr>\n",
       "      <th>1</th>\n",
       "      <td>Samsung Galaxy S20 FE 5G (Cloud Navy, 8GB RAM,...</td>\n",
       "      <td>9,499</td>\n",
       "    </tr>\n",
       "    <tr>\n",
       "      <th>2</th>\n",
       "      <td>Redmi A1 (Light Blue, 2GB RAM, 32GB Storage) |...</td>\n",
       "      <td>8,199</td>\n",
       "    </tr>\n",
       "    <tr>\n",
       "      <th>3</th>\n",
       "      <td>Redmi 10A (Slate Grey, 4GB RAM, 64GB Storage) ...</td>\n",
       "      <td>9,249</td>\n",
       "    </tr>\n",
       "    <tr>\n",
       "      <th>4</th>\n",
       "      <td>Redmi 10A (Charcoal Black, 4GB RAM, 64GB Stora...</td>\n",
       "      <td>29,999</td>\n",
       "    </tr>\n",
       "  </tbody>\n",
       "</table>\n",
       "</div>"
      ],
      "text/plain": [
       "                                             Product   Price\n",
       "0  Samsung Galaxy M04 Dark Blue, 4GB RAM, 64GB St...   9,499\n",
       "1  Samsung Galaxy S20 FE 5G (Cloud Navy, 8GB RAM,...   9,499\n",
       "2  Redmi A1 (Light Blue, 2GB RAM, 32GB Storage) |...   8,199\n",
       "3  Redmi 10A (Slate Grey, 4GB RAM, 64GB Storage) ...   9,249\n",
       "4  Redmi 10A (Charcoal Black, 4GB RAM, 64GB Stora...  29,999"
      ]
     },
     "execution_count": 12,
     "metadata": {},
     "output_type": "execute_result"
    }
   ],
   "source": [
    "df.head()"
   ]
  }
 ],
 "metadata": {
  "kernelspec": {
   "display_name": "Python (learn-env)",
   "language": "python",
   "name": "learn-env"
  },
  "language_info": {
   "codemirror_mode": {
    "name": "ipython",
    "version": 3
   },
   "file_extension": ".py",
   "mimetype": "text/x-python",
   "name": "python",
   "nbconvert_exporter": "python",
   "pygments_lexer": "ipython3",
   "version": "3.9.13"
  }
 },
 "nbformat": 4,
 "nbformat_minor": 5
}
